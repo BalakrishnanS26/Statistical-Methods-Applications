{
 "cells": [
  {
   "cell_type": "markdown",
   "metadata": {},
   "source": [
    "### Problem B.1"
   ]
  },
  {
   "cell_type": "markdown",
   "metadata": {},
   "source": [
    "#### Suppose that $X_1,...,X_8 \\overset{iid}{\\sim} \\Gamma(\\alpha, \\beta)$. Let's use the bootstrap to compute a $90\\%$ confidence interval for the population standard deviation: $sd(X) = \\sqrt{\\alpha/\\beta^2} = \\theta$.\n",
    "\n",
    "*Note: In this example, use the parameterization of the gamma distribution that R uses. This is different from the one used in STAT 4520/5520 math stat (the $\\beta$ here is $1/\\beta$ from math stat).*\n",
    "\n",
    "#### (a) State why a $\\chi^2$ confidence interval is not valid in this context.\n"
   ]
  },
  {
   "cell_type": "markdown",
   "metadata": {},
   "source": [
    "###### The underlying distribution is not normal. We must note that Chi-Square distribution with sample size n less than 30 can only be used if the underlying distribution is normal. "
   ]
  },
  {
   "cell_type": "markdown",
   "metadata": {},
   "source": [
    "#### (b) Generate a sample of size $n = 8$ from $\\Gamma(\\alpha = 1, \\beta = 1/3)$ and calculate the true population standard deviation (in this example, we are generating data so that we can see how well our estimation procedure will do)."
   ]
  },
  {
   "cell_type": "code",
   "execution_count": 1,
   "metadata": {},
   "outputs": [
    {
     "data": {
      "text/html": [
       "0.333333333333333"
      ],
      "text/latex": [
       "0.333333333333333"
      ],
      "text/markdown": [
       "0.333333333333333"
      ],
      "text/plain": [
       "[1] 0.3333333"
      ]
     },
     "metadata": {},
     "output_type": "display_data"
    }
   ],
   "source": [
    "set.seed(1)\n",
    "\n",
    "n <- 8\n",
    "alpha <- 1\n",
    "beta <- 1/(1/3)\n",
    "spl <- rgamma(n, 1, rate = beta)\n",
    "\n",
    "sqrt(alpha/(beta)^2)\n",
    "\n"
   ]
  },
  {
   "cell_type": "markdown",
   "metadata": {},
   "source": [
    "#### (c) Generate $B = 200$ bootstrap samples from the above sample. Print the dimension, and articulate what each row/column represents. Avoid loops! (HINT: use the replicate() function.)\n"
   ]
  },
  {
   "cell_type": "code",
   "execution_count": 2,
   "metadata": {},
   "outputs": [
    {
     "data": {
      "text/html": [
       "<ol class=list-inline>\n",
       "\t<li>8</li>\n",
       "\t<li>200</li>\n",
       "</ol>\n"
      ],
      "text/latex": [
       "\\begin{enumerate*}\n",
       "\\item 8\n",
       "\\item 200\n",
       "\\end{enumerate*}\n"
      ],
      "text/markdown": [
       "1. 8\n",
       "2. 200\n",
       "\n",
       "\n"
      ],
      "text/plain": [
       "[1]   8 200"
      ]
     },
     "metadata": {},
     "output_type": "display_data"
    }
   ],
   "source": [
    "boot <- replicate(200,sample(spl, size = 8, replace = TRUE))\n",
    "dim(boot)"
   ]
  },
  {
   "cell_type": "markdown",
   "metadata": {},
   "source": [
    "#### Each Column represents a bootstrap sample of size 8 from the gamma distribution in question b. There a total of 200 columns and 8 rows. These bootstrap samples can be used to estimate the thetastarhat which is actually estimated thetahat. This thetahat is in turn estimated the true population parameter."
   ]
  },
  {
   "cell_type": "markdown",
   "metadata": {},
   "source": [
    "#### (d) Calculate and print the MLE of $\\theta$ for the original sample. Denote this as $\\widehat{\\theta}$. Then, calculate the MLE of $\\theta$ for each bootstrap sample. Denote this as $\\widehat{\\theta}^*_i$, for $i = 1,...,B$. Avoid loops! (HINT: use the apply() function.) Display a histogram of these values."
   ]
  },
  {
   "cell_type": "code",
   "execution_count": 3,
   "metadata": {},
   "outputs": [
    {
     "data": {
      "image/png": "[encoded data removed]",
      "text/plain": [
       "Plot with title \"Histogram of theta_hat_star\""
      ]
     },
     "metadata": {},
     "output_type": "display_data"
    }
   ],
   "source": [
    "theta_hat_star = sqrt((n-1)/n)*apply(boot,2,sd); \n",
    "hist(theta_hat_star);\n",
    "\n",
    "\n"
   ]
  },
  {
   "cell_type": "markdown",
   "metadata": {},
   "source": [
    "#### (e) Use the quantile() function to find the 5th and 95th percentile of the distribution of $\\widehat{\\theta}^*_i$. Use these values to calculate the $90\\%$ boostrap confidence interval for $\\theta$. "
   ]
  },
  {
   "cell_type": "code",
   "execution_count": 4,
   "metadata": {},
   "outputs": [
    {
     "data": {
      "text/html": [
       "<dl class=dl-horizontal>\n",
       "\t<dt>5%</dt>\n",
       "\t\t<dd>0.113518641876066</dd>\n",
       "\t<dt>95%</dt>\n",
       "\t\t<dd>0.237394100507379</dd>\n",
       "</dl>\n"
      ],
      "text/latex": [
       "\\begin{description*}\n",
       "\\item[5\\textbackslash{}\\%] 0.113518641876066\n",
       "\\item[95\\textbackslash{}\\%] 0.237394100507379\n",
       "\\end{description*}\n"
      ],
      "text/markdown": [
       "5%\n",
       ":   0.11351864187606695%\n",
       ":   0.237394100507379\n",
       "\n"
      ],
      "text/plain": [
       "       5%       95% \n",
       "0.1135186 0.2373941 "
      ]
     },
     "metadata": {},
     "output_type": "display_data"
    }
   ],
   "source": [
    "quantile(theta_hat_star,c(0.05,0.95))"
   ]
  },
  {
   "cell_type": "markdown",
   "metadata": {},
   "source": [
    "#### (f) Interpret this confidence interval."
   ]
  },
  {
   "cell_type": "markdown",
   "metadata": {
    "collapsed": true
   },
   "source": [
    "#### We are 90% confident that the true standard deviation can be found between 0.1135 to 0.237."
   ]
  },
  {
   "cell_type": "markdown",
   "metadata": {},
   "source": [
    "### Problem B.2"
   ]
  },
  {
   "cell_type": "markdown",
   "metadata": {},
   "source": [
    "Thus far, we've been looking at the *nonparametric bootstrap*. In this problem, we look at the *parametric bootstrap* as a way of estimating the bias and variance of an estimator $\\widehat{\\theta} = \\bar{X}^2$ of $\\theta = \\mu^2$ (in problem A.1 you calculated these values exactly).\n",
    "\n",
    "#### (a) Generate $X_1,...,X_{20} \\overset{iid}{\\sim}N(\\mu = 2, \\sigma^2 = 1)$, and then forget that you know $\\mu$ and $\\sigma^2$. Find the sample mean and sample variance. "
   ]
  },
  {
   "cell_type": "code",
   "execution_count": 5,
   "metadata": {},
   "outputs": [
    {
     "data": {
      "text/html": [
       "2.19052387615662"
      ],
      "text/latex": [
       "2.19052387615662"
      ],
      "text/markdown": [
       "2.19052387615662"
      ],
      "text/plain": [
       "[1] 2.190524"
      ]
     },
     "metadata": {},
     "output_type": "display_data"
    },
    {
     "data": {
      "text/html": [
       "0.834032357197318"
      ],
      "text/latex": [
       "0.834032357197318"
      ],
      "text/markdown": [
       "0.834032357197318"
      ],
      "text/plain": [
       "[1] 0.8340324"
      ]
     },
     "metadata": {},
     "output_type": "display_data"
    }
   ],
   "source": [
    "set.seed(1)\n",
    "\n",
    "n = 20\n",
    "sam <- rnorm(20,2,1)\n",
    "\n",
    "sam.mean <- mean(sam)\n",
    "sam.var <- var(sam)\n",
    "\n",
    "sam.mean\n",
    "sam.var\n"
   ]
  },
  {
   "cell_type": "markdown",
   "metadata": {},
   "source": [
    "#### (b) Define $\\widehat{N}$ to be the distribution of the variable $X_i$ in the population with the sample estimates plugged in for the unknown population parameters. Write down $\\widehat{N}$ based on the data generated in (a). "
   ]
  },
  {
   "cell_type": "markdown",
   "metadata": {},
   "source": [
    "$\\widehat{N} {\\sim}N(\\mu = 2.19052, \\sigma^2 = 0.834)$"
   ]
  },
  {
   "cell_type": "markdown",
   "metadata": {},
   "source": [
    "#### (c) Draw $B = 500$ boostrap samples from $\\widehat{N}$, and for each bootstrap sample $(X_{1,j},...,X_{20,j})$, compute $$ \\widehat{\\theta}^*_j = \\bigg(\\frac{1}{20}\\sum^{20}_{i=1}X^*_{i,j}\\bigg)^2,$$ where $j = 1,...,B$."
   ]
  },
  {
   "cell_type": "code",
   "execution_count": 6,
   "metadata": {},
   "outputs": [
    {
     "data": {
      "text/html": [
       "<ol class=list-inline>\n",
       "\t<li>20</li>\n",
       "\t<li>500</li>\n",
       "</ol>\n"
      ],
      "text/latex": [
       "\\begin{enumerate*}\n",
       "\\item 20\n",
       "\\item 500\n",
       "\\end{enumerate*}\n"
      ],
      "text/markdown": [
       "1. 20\n",
       "2. 500\n",
       "\n",
       "\n"
      ],
      "text/plain": [
       "[1]  20 500"
      ]
     },
     "metadata": {},
     "output_type": "display_data"
    }
   ],
   "source": [
    "set.seed(1)\n",
    "\n",
    "bt <-500\n",
    "btstr <-replicate(bt,sample(sam,n,replace=TRUE))\n",
    "\n",
    "dim(btstr)\n",
    "\n",
    "thetastarhat <- (colMeans(btstr))^2"
   ]
  },
  {
   "cell_type": "markdown",
   "metadata": {},
   "source": [
    "#### (d) Compute an estimate of the bias:\n",
    "\n",
    "\\begin{align*}\n",
    "\\widehat{B}(\\widehat{\\theta}) \\approx \\frac{1}{B}\\sum^B_{j=1}\\widehat{\\theta}^*_j - \\bar{x}^2.\n",
    "\\end{align*}\n",
    "\n",
    "Compare this to the exact bias using the formula in problem A.1."
   ]
  },
  {
   "cell_type": "code",
   "execution_count": 7,
   "metadata": {},
   "outputs": [
    {
     "data": {
      "text/html": [
       "0.0546412265192826"
      ],
      "text/latex": [
       "0.0546412265192826"
      ],
      "text/markdown": [
       "0.0546412265192826"
      ],
      "text/plain": [
       "[1] 0.05464123"
      ]
     },
     "metadata": {},
     "output_type": "display_data"
    },
    {
     "data": {
      "text/html": [
       "0.0417016178598659"
      ],
      "text/latex": [
       "0.0417016178598659"
      ],
      "text/markdown": [
       "0.0417016178598659"
      ],
      "text/plain": [
       "[1] 0.04170162"
      ]
     },
     "metadata": {},
     "output_type": "display_data"
    }
   ],
   "source": [
    "set.seed(1)\n",
    "\n",
    "x_bar_sq <- (sam.mean)^2\n",
    "bias_sample <- mean(thetastarhat) - x_bar_sq\n",
    "bias_sample\n",
    "\n",
    "bias_original <- (sam.var)/20\n",
    "bias_original\n",
    "\n",
    "#sample bias is very close to the the exact bias computed from problem A.1"
   ]
  },
  {
   "cell_type": "markdown",
   "metadata": {},
   "source": [
    "#### (e) Compute an estimate of the variance:\n",
    "\n",
    "\\begin{align*}\n",
    "\\widehat{\\text{Var}}(\\widehat{\\theta}) \\approx \\frac{1}{B-1}\\sum^B_{j=1}\\big(\\widehat{\\theta}^*_j - \\bar{\\theta} \\big)^2,\n",
    "\\end{align*}\n",
    "where \n",
    "\\begin{align*}\n",
    "\\bar{\\theta} = \\frac{1}{B}\\sum^B_{j=1}\\widehat{\\theta}^*_j .\n",
    "\\end{align*}\n",
    "Compare this to the exact variance using the formula in problem A.1."
   ]
  },
  {
   "cell_type": "code",
   "execution_count": 8,
   "metadata": {},
   "outputs": [
    {
     "data": {
      "text/html": [
       "0.839535831826137"
      ],
      "text/latex": [
       "0.839535831826137"
      ],
      "text/markdown": [
       "0.839535831826137"
      ],
      "text/plain": [
       "[1] 0.8395358"
      ]
     },
     "metadata": {},
     "output_type": "display_data"
    },
    {
     "data": {
      "text/html": [
       "0.834032357197318"
      ],
      "text/latex": [
       "0.834032357197318"
      ],
      "text/markdown": [
       "0.834032357197318"
      ],
      "text/plain": [
       "[1] 0.8340324"
      ]
     },
     "metadata": {},
     "output_type": "display_data"
    }
   ],
   "source": [
    "set.seed(1)\n",
    "\n",
    "varthetahat <- rep(NA,500)\n",
    "\n",
    "thetabar <- mean(thetastarhat)\n",
    "\n",
    "for (i in 1:bt) {\n",
    "    varthetahat[i] <- (thetastarhat[i] - thetabar)^2\n",
    "}\n",
    "\n",
    "varthetahat.1 <- sum(varthetahat)/(bt-1)\n",
    "\n",
    "varthetahat.1\n",
    "\n",
    "sam.var\n",
    "\n",
    "#sample variance is very close to the the exact variance computed from problem A.1\n"
   ]
  },
  {
   "cell_type": "markdown",
   "metadata": {},
   "source": [
    "#### (f) True or False: For a fixed sample size $n = 20$, as $B$ increases, $\\widehat{B}(\\widehat{\\theta})$ will approach ${B}(\\widehat{\\theta})$.  That is, for a fixed $n$, the bootstrap estimate of the bias will approach the true bias as the number of bootstrap samples, $B$ increases. You might consider running a simulation to decide!"
   ]
  },
  {
   "cell_type": "markdown",
   "metadata": {},
   "source": [
    "#### False, I ran a simulation to determine it to be false. Assuming the sample size remains at 20 and we increase the number of bootstrap samples from 500 to 800, the variance bias actually is lower than the true bias. The bias can be lower than the true bias and does not necessarily converge to the true bias. Example, i increased bootstrap from 500 to 800 and my bootstrap sample bias decreased to 0.822 which is lower than the true bias of 0.834."
   ]
  },
  {
   "cell_type": "markdown",
   "metadata": {},
   "source": [
    "### Problem B.3\n",
    "\n",
    "The \"Wisconsin Card Sorting Test\" is widely used by psychiatrists, neurologists, and neurophycologists with patients who have a brain injury. Patients with any sort of frontal lobe lesion generally do poorly on the test. The data frame WCST contains the test scores from a group of 50 patients from the *Virgen del Camino* Hospital.\n",
    "#### (a) Using the code below, load the WCST data and explore whether there is reason to believe that the score data comes from a non-normal distribution. First, create a histogram (use ggplot!) and describe whether the data look normal. Then, use the function shapiro.test() to explore normality. Be sure to explain what this function does--i.e., what's the null and alternative hypothesis--in your answer."
   ]
  },
  {
   "cell_type": "code",
   "execution_count": 9,
   "metadata": {},
   "outputs": [
    {
     "data": {},
     "metadata": {},
     "output_type": "display_data"
    },
    {
     "data": {},
     "metadata": {},
     "output_type": "display_data"
    },
    {
     "data": {
      "image/png": "[encoded data removed]",
      "text/plain": [
       "plot without title"
      ]
     },
     "metadata": {},
     "output_type": "display_data"
    },
    {
     "data": {
      "text/plain": [
       "\n",
       "\tShapiro-Wilk normality test\n",
       "\n",
       "data:  mydata$score\n",
       "W = 0.77472, p-value = 2.405e-07\n"
      ]
     },
     "metadata": {},
     "output_type": "display_data"
    },
    {
     "data": {
      "image/png": "[encoded data removed]",
      "text/plain": [
       "plot without title"
      ]
     },
     "metadata": {},
     "output_type": "display_data"
    }
   ],
   "source": [
    "mydata = read.table(\"WCST.txt\")\n",
    "n = nrow(mydata)\n",
    "xbar = mean(mydata$score)\n",
    "\n",
    "library(ggplot2)\n",
    "ggplot(data=mydata) + geom_histogram(mapping = aes( x = score), bins = 50)\n",
    "\n",
    "#Based on the below histogram plot, the data is right skewed  and does not look normal. \n",
    "#We need to use log in order to possibly make it look normally distributed.\n",
    "\n",
    "ggplot(data=mydata) + geom_histogram(mapping = aes( x = log(score)), bins = 50)\n",
    "\n",
    "shapiro.test(mydata$score)\n",
    "\n",
    "#Shapiro.test is a test for normality. The null hypothesis for this test is a data that comes from a normal distribution. \n",
    "#The alternative hypothesis is if we can gather any evidence that suggests that the data come from some other distribution.\n",
    "#This test shows if the data is normal and can be used in conjunction with the histogram for comparison. \n",
    "#We do this together to see if we have a normal distribution. \n",
    "#Since the p-value is small, we reject the null hypothesis that data comes from a normal distribution.\n",
    "\n"
   ]
  },
  {
   "cell_type": "markdown",
   "metadata": {
    "collapsed": true
   },
   "source": []
  },
  {
   "cell_type": "markdown",
   "metadata": {},
   "source": [
    "#### (b) What assumptions must be made in order to compute a (non-boostrap) 95% confidence interval for the population mean score?"
   ]
  },
  {
   "cell_type": "markdown",
   "metadata": {
    "collapsed": true
   },
   "source": [
    "#### We need to assume that the sample data is IID. Sample values must be independent of each other. Also, the data sampled should be random. "
   ]
  },
  {
   "cell_type": "markdown",
   "metadata": {},
   "source": [
    "#### (c) Compute the confidence interval from (b)."
   ]
  },
  {
   "cell_type": "code",
   "execution_count": 10,
   "metadata": {},
   "outputs": [
    {
     "data": {
      "text/html": [
       "21.48"
      ],
      "text/latex": [
       "21.48"
      ],
      "text/markdown": [
       "21.48"
      ],
      "text/plain": [
       "[1] 21.48"
      ]
     },
     "metadata": {},
     "output_type": "display_data"
    },
    {
     "data": {
      "text/html": [
       "16.3780834346297"
      ],
      "text/latex": [
       "16.3780834346297"
      ],
      "text/markdown": [
       "16.3780834346297"
      ],
      "text/plain": [
       "[1] 16.37808"
      ]
     },
     "metadata": {},
     "output_type": "display_data"
    },
    {
     "data": {
      "text/html": [
       "26.5819165653703"
      ],
      "text/latex": [
       "26.5819165653703"
      ],
      "text/markdown": [
       "26.5819165653703"
      ],
      "text/plain": [
       "[1] 26.58192"
      ]
     },
     "metadata": {},
     "output_type": "display_data"
    }
   ],
   "source": [
    "xbar = mean(mydata$score)\n",
    "xbar\n",
    "\n",
    "variance = var(mydata$score)\n",
    "\n",
    "lb <- xbar - 1.96*(sqrt(variance)/sqrt(nrow(mydata)))\n",
    "lb\n",
    "ub <- xbar + 1.96*(sqrt(variance)/sqrt(nrow(mydata)))\n",
    "ub\n"
   ]
  },
  {
   "cell_type": "markdown",
   "metadata": {},
   "source": [
    "#### (d) Compute a 95% percentile bootstrap pivot confidence interval for the mean. "
   ]
  },
  {
   "cell_type": "code",
   "execution_count": 13,
   "metadata": {},
   "outputs": [
    {
     "data": {
      "text/html": [
       "<ol class=list-inline>\n",
       "\t<li>50</li>\n",
       "\t<li>500</li>\n",
       "</ol>\n"
      ],
      "text/latex": [
       "\\begin{enumerate*}\n",
       "\\item 50\n",
       "\\item 500\n",
       "\\end{enumerate*}\n"
      ],
      "text/markdown": [
       "1. 50\n",
       "2. 500\n",
       "\n",
       "\n"
      ],
      "text/plain": [
       "[1]  50 500"
      ]
     },
     "metadata": {},
     "output_type": "display_data"
    },
    {
     "data": {
      "text/html": [
       "<strong>2.5%:</strong> 26"
      ],
      "text/latex": [
       "\\textbf{2.5\\textbackslash{}\\%:} 26"
      ],
      "text/markdown": [
       "**2.5%:** 26"
      ],
      "text/plain": [
       "2.5% \n",
       "  26 "
      ]
     },
     "metadata": {},
     "output_type": "display_data"
    },
    {
     "data": {
      "text/html": [
       "<strong>97.5%:</strong> 70.0925"
      ],
      "text/latex": [
       "\\textbf{97.5\\textbackslash{}\\%:} 70.0925"
      ],
      "text/markdown": [
       "**97.5%:** 70.0925"
      ],
      "text/plain": [
       "  97.5% \n",
       "70.0925 "
      ]
     },
     "metadata": {},
     "output_type": "display_data"
    }
   ],
   "source": [
    "bt.1 <-500\n",
    "btstr.1 <-replicate(bt.1,sample(mydata$score,nrow(mydata),replace=TRUE))\n",
    "\n",
    "dim(btstr.1)\n",
    "\n",
    "thetastar.1 <- (colMeans(btstr.1))\n",
    "\n",
    "lb.1 <- quantile(thetastar.1,0.025)\n",
    "ub.1 <- quantile(thetastar.1,0.975)\n",
    "\n",
    "lb.pivot <- 2*xbar - lb.1\n",
    "ub.pivot <- 2*xbar + ub.1\n",
    "\n",
    "lb.pivot\n",
    "ub.pivot"
   ]
  },
  {
   "cell_type": "markdown",
   "metadata": {},
   "source": [
    "### Problem B.4\n",
    "\n",
    "Load the data frame Animals from the MASS package. Construct a 95% bootstrap *percentile confidence interval* for the correlation coefficient between $\\log(brain)$ and $\\log(body)$. A percentile confidence interval is simply $$\\big[\\widehat{\\theta}^*_{\\alpha/2}, \\,\\, \\widehat{\\theta}^*_{1-\\alpha/2} \\big],$$ where $\\widehat{\\theta}^*_{\\alpha/2}$ is the $\\alpha/2$ quantile of the bootstrap distribution. (We note that in many cases, this confidence interval is not as accurate as the pivot interval discussed in class.)"
   ]
  },
  {
   "cell_type": "code",
   "execution_count": 14,
   "metadata": {},
   "outputs": [
    {
     "data": {
      "text/plain": [
       "      body              brain        \n",
       " Min.   :    0.02   Min.   :   0.40  \n",
       " 1st Qu.:    3.10   1st Qu.:  22.23  \n",
       " Median :   53.83   Median : 137.00  \n",
       " Mean   : 4278.44   Mean   : 574.52  \n",
       " 3rd Qu.:  479.00   3rd Qu.: 420.00  \n",
       " Max.   :87000.00   Max.   :5712.00  "
      ]
     },
     "metadata": {},
     "output_type": "display_data"
    },
    {
     "data": {
      "text/html": [
       "<table>\n",
       "<thead><tr><th></th><th scope=col>body</th><th scope=col>brain</th></tr></thead>\n",
       "<tbody>\n",
       "\t<tr><th scope=row>Mountain beaver</th><td>    1.35</td><td>  8.1   </td></tr>\n",
       "\t<tr><th scope=row>Cow</th><td>  465.00</td><td>423.0   </td></tr>\n",
       "\t<tr><th scope=row>Grey wolf</th><td>   36.33</td><td>119.5   </td></tr>\n",
       "\t<tr><th scope=row>Goat</th><td>   27.66</td><td>115.0   </td></tr>\n",
       "\t<tr><th scope=row>Guinea pig</th><td>    1.04</td><td>  5.5   </td></tr>\n",
       "\t<tr><th scope=row>Dipliodocus</th><td>11700.00</td><td> 50.0   </td></tr>\n",
       "</tbody>\n",
       "</table>\n"
      ],
      "text/latex": [
       "\\begin{tabular}{r|ll}\n",
       "  & body & brain\\\\\n",
       "\\hline\n",
       "\tMountain beaver &     1.35 &   8.1   \\\\\n",
       "\tCow &   465.00 & 423.0   \\\\\n",
       "\tGrey wolf &    36.33 & 119.5   \\\\\n",
       "\tGoat &    27.66 & 115.0   \\\\\n",
       "\tGuinea pig &     1.04 &   5.5   \\\\\n",
       "\tDipliodocus & 11700.00 &  50.0   \\\\\n",
       "\\end{tabular}\n"
      ],
      "text/markdown": [
       "\n",
       "| <!--/--> | body | brain | \n",
       "|---|---|---|---|---|---|\n",
       "| Mountain beaver |     1.35 |   8.1    | \n",
       "| Cow |   465.00 | 423.0    | \n",
       "| Grey wolf |    36.33 | 119.5    | \n",
       "| Goat |    27.66 | 115.0    | \n",
       "| Guinea pig |     1.04 |   5.5    | \n",
       "| Dipliodocus | 11700.00 |  50.0    | \n",
       "\n",
       "\n"
      ],
      "text/plain": [
       "                body     brain\n",
       "Mountain beaver     1.35   8.1\n",
       "Cow               465.00 423.0\n",
       "Grey wolf          36.33 119.5\n",
       "Goat               27.66 115.0\n",
       "Guinea pig          1.04   5.5\n",
       "Dipliodocus     11700.00  50.0"
      ]
     },
     "metadata": {},
     "output_type": "display_data"
    },
    {
     "data": {
      "text/html": [
       "<dl class=dl-horizontal>\n",
       "\t<dt>2.5%</dt>\n",
       "\t\t<dd>0.588976947109753</dd>\n",
       "\t<dt>97.5%</dt>\n",
       "\t\t<dd>0.960583850634842</dd>\n",
       "</dl>\n"
      ],
      "text/latex": [
       "\\begin{description*}\n",
       "\\item[2.5\\textbackslash{}\\%] 0.588976947109753\n",
       "\\item[97.5\\textbackslash{}\\%] 0.960583850634842\n",
       "\\end{description*}\n"
      ],
      "text/markdown": [
       "2.5%\n",
       ":   0.58897694710975397.5%\n",
       ":   0.960583850634842\n",
       "\n"
      ],
      "text/plain": [
       "     2.5%     97.5% \n",
       "0.5889769 0.9605839 "
      ]
     },
     "metadata": {},
     "output_type": "display_data"
    }
   ],
   "source": [
    "library(MASS)\n",
    "data(Animals)\n",
    "summary(Animals)\n",
    "\n",
    "head(Animals)\n",
    "\n",
    "a <- Animals\n",
    "bootstrap <- 200\n",
    "\n",
    "corr <- rep(NA, 200)\n",
    "\n",
    "for (i in 1:bootstrap) {\n",
    "    d <- a[sample(nrow(a),28, replace=TRUE),]\n",
    "    corr[i] <- cor(log(d$body),log(d$brain))\n",
    "}\n",
    "\n",
    "quantile(corr,c(0.025,0.975))"
   ]
  },
  {
   "cell_type": "code",
   "execution_count": null,
   "metadata": {},
   "outputs": [],
   "source": []
  }
 ],
 "metadata": {
  "kernelspec": {
   "display_name": "R",
   "language": "R",
   "name": "ir"
  },
  "language_info": {
   "codemirror_mode": "r",
   "file_extension": ".r",
   "mimetype": "text/x-r-source",
   "name": "R",
   "pygments_lexer": "r",
   "version": "3.5.1"
  }
 },
 "nbformat": 4,
 "nbformat_minor": 2
}
