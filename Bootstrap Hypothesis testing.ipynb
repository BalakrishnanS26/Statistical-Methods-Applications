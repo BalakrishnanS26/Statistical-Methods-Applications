{
 "cells": [
  {
   "cell_type": "markdown",
   "metadata": {},
   "source": [
    "## B. Computational Problems"
   ]
  },
  {
   "cell_type": "markdown",
   "metadata": {},
   "source": [
    "### Problem B.1"
   ]
  },
  {
   "cell_type": "markdown",
   "metadata": {},
   "source": [
    "Let $X_1,...,X_{n_1}$ be an iid sample from population #1, with unknown mean $\\mu_1$ and known standard deviation $\\sigma_1$, and let $Y_1,...,Y_{n_2}$ be an iid sample from population #2, with unknown mean $\\mu_2$ and known standard deviation $\\sigma_2$. Suppose we want to conduct a hypothesis test of the sort: $$H_0: \\mu_1 - \\mu_2 = 0 \\,\\,\\, vs \\,\\,\\, H_1: \\mu_1 - \\mu_2 \\ge 0. $$\n",
    "\n",
    "The following algorithm has been suggested for a bootstrap test.\n",
    "\n",
    "1. Calculate the test statistic $$t = \\frac{\\bar{x} - \\bar{y}}{\\sqrt{\\sigma^2_1\\big/n_1 + \\sigma^2_2\\big/n_2}}$$\n",
    " \n",
    "2. Let $\\bar{z}$ be the mean of the combined data sets. Create two new data sets, $x^\\prime_1,...,x^\\prime_{n_1}$ and $y^\\prime_1,...,y^\\prime_{n_2}$ that are the original data sets centered at $\\bar{z}$.\n",
    "\n",
    "3. Draw $B$ random bootstrap samples of size $n_1$ from $x^\\prime_1,...,x^\\prime_{n_1}$ and of size $n_2$ from $y^\\prime_1,...,y^\\prime_{n_2}$. The result will be two matrices, $x^*$ and $y^*$; $x^*$ will containin columns of bootstrap samples from sample #1, and $y^*$ will contain columns of bootstrap samples from sample #2.\n",
    "\n",
    "4. Then, for each bootstrap sample pair, calculate \n",
    "\n",
    "$$t^* = \\frac{\\bar{x^*}_j - \\bar{y^*}_j}{\\sqrt{\\sigma^{*^2}_1\\big/n_1 + \\sigma^{*^2}_2\\big/n_2}},$$\n",
    "\n",
    "where $\\bar{x^*}_j$ is the sample mean of the $j^{th}$ bootstrap sample from sample #1, and $\\bar{y^*}_j$ is the sample mean of the $j^{th}$ bootstrap sample from sample #2. $\\sigma^{*^2}_1$ and $\\sigma^{*^2}_2$ are the corresponding variance estimates of the $j^{th}$ bootstrap sample. $t^*$ will be a vector of length $B$ and will approximate the distribution of the test statistic $t$.\n",
    "\n",
    "5. Estimate the p-value using $$\\frac{\\text{# of times }\\{t^* \\ge t \\}}{B}.$$ \n",
    "\n"
   ]
  },
  {
   "cell_type": "markdown",
   "metadata": {},
   "source": [
    "#### (a) Generate $X_1,...,X_{20} \\overset{iid}{\\sim} N(0,2)$ and $Y_1,...,Y_{15} \\overset{iid}{\\sim} N(1,3)$, and then forget that you know $\\mu_1 = 0$ and $\\mu_2 = 1$. Use the bootstrap method described above to test $$H_0: \\mu_1 - \\mu_2 = 0 \\,\\,\\, vs \\,\\,\\, H_1: \\mu_1 - \\mu_2 \\ge 0. $$"
   ]
  },
  {
   "cell_type": "code",
   "execution_count": 1,
   "metadata": {},
   "outputs": [
    {
     "data": {
      "text/html": [
       "'The p value is 0.84'"
      ],
      "text/latex": [
       "'The p value is 0.84'"
      ],
      "text/markdown": [
       "'The p value is 0.84'"
      ],
      "text/plain": [
       "[1] \"The p value is 0.84\""
      ]
     },
     "metadata": {},
     "output_type": "display_data"
    }
   ],
   "source": [
    "set.seed(1)\n",
    "x = rnorm(20,0,sqrt(2))\n",
    "y = rnorm(15,1,sqrt(3))\n",
    "\n",
    "#Calculate the test statistic\n",
    "xbar = mean(x)\n",
    "ybar = mean(y)\n",
    "\n",
    "#Calculate the denominator of the test statistic\n",
    "\n",
    "td = sqrt((2/20) + (3/15)) \n",
    "t = (xbar - ybar)/td\n",
    "\n",
    "#Combine the data set\n",
    "\n",
    "z = c(x,y)\n",
    "zbar = mean(z)\n",
    "\n",
    "#Create new data sets centered around zbar\n",
    "\n",
    "x.1 = x - xbar + zbar\n",
    "y.1 = y - ybar + zbar\n",
    "\n",
    "#Bootstrapping samples\n",
    "\n",
    "b=200\n",
    "xstar = replicate(b, sample(x.1, 20, replace = TRUE))\n",
    "\n",
    "\n",
    "\n",
    "ystar = replicate(b, sample(y.1, 15, replace = TRUE))\n",
    "\n",
    "xstarbar = colMeans(xstar)\n",
    "\n",
    "ystarbar = colMeans(ystar)\n",
    "xstarvar = NA\n",
    "\n",
    "for (i in 1:200) {\n",
    "    xstarvar[i] = var(xstar[,i])\n",
    "}\n",
    "\n",
    "ystarvar = NA\n",
    "\n",
    "for (i in 1:200) {\n",
    "    ystarvar[i] = var(ystar[,i])\n",
    "}\n",
    "\n",
    "#Calculate the test statistic for each bootstrap sample\n",
    "\n",
    "tstarx = NA\n",
    "tstary = NA\n",
    "tstar = NA\n",
    "\n",
    "for (i in 1:200) {\n",
    "    tstarx[i] = mean(xstarbar[i])\n",
    "}\n",
    "\n",
    "for (i in 1:200) {\n",
    "    tstary[i] = mean(ystarbar[i])\n",
    "}\n",
    "\n",
    "for (i in 1:200) {\n",
    "    tstar[i] = (tstarx[i] - tstary[i]) / sqrt((xstarvar[i]/20) + (ystarvar[i]/15))\n",
    "}\n",
    "\n",
    "#Estimate the P-value\n",
    "\n",
    "count =0\n",
    "for (i in 1:200) {\n",
    "    if (tstar[i] > t)\n",
    "        count = count + 1\n",
    "}\n",
    "\n",
    "paste(\"The p value is\", count/b)"
   ]
  },
  {
   "cell_type": "markdown",
   "metadata": {},
   "source": [
    "#### (b) Use t.test() to test the hypotheses in part (a)."
   ]
  },
  {
   "cell_type": "code",
   "execution_count": 2,
   "metadata": {},
   "outputs": [
    {
     "data": {
      "text/plain": [
       "\n",
       "\tWelch Two Sample t-test\n",
       "\n",
       "data:  x and y\n",
       "t = -1.1828, df = 26.172, p-value = 0.8762\n",
       "alternative hypothesis: true difference in means is greater than 0\n",
       "95 percent confidence interval:\n",
       " -1.466841       Inf\n",
       "sample estimates:\n",
       "mean of x mean of y \n",
       "0.2694414 0.8702078 \n"
      ]
     },
     "metadata": {},
     "output_type": "display_data"
    }
   ],
   "source": [
    "set.seed(1)\n",
    "\n",
    "t.test(x,y,alternative=\"greater\")"
   ]
  },
  {
   "cell_type": "markdown",
   "metadata": {},
   "source": [
    "#### (c) How much do the answers from (a) and (b) differ? Explain the relationship between these tests."
   ]
  },
  {
   "cell_type": "markdown",
   "metadata": {},
   "source": [
    "#### I got a p-value of 0.852 in (a) and p-value in (b) is 0.8762. There is a difference of about -0.0242. This shows us that the alternative hypothesis is not acceptable and we fail to reject the null hypothesis which states that the difference between their means is greater than zero. Also to note, even though we took a 500 bootstrap sample of size 20 for x and 15 for y, we cannot conclusively find a strong p-value to reject the null hypothesis."
   ]
  },
  {
   "cell_type": "markdown",
   "metadata": {},
   "source": [
    "### Problem B.2\n",
    "\n",
    "A tennis club has two systems to measure the speed of a tennis ball. The local tennis pros suspect one system, ${\\tt speed1}$, is consistently recording faster speeds. To test her suspicions, she sets up both systems and records the speed of 12 serves (three serves from each side of the court). The values are stored in the data frame ${\\tt TENNIS}$, with variables ${\\tt speed1}$ and ${\\tt speed2}$. The recorded speeds are in kilometers per hour. You can access ${\\tt TENNIS}$ by installing the PASWR2 package (if you haven't dont so already: install.packages(\"PASWR2\")) and running:\n",
    "\n",
    "library(PASWR2)\n",
    "\n",
    "data(TENNIS)\n",
    "\n",
    "\n",
    "#### Does the evidence support the tennis pro's suspicion? Use the above bootstrap hypothesis testing procedure and $\\alpha = 0.1$. "
   ]
  },
  {
   "cell_type": "code",
   "execution_count": 3,
   "metadata": {},
   "outputs": [
    {
     "name": "stderr",
     "output_type": "stream",
     "text": [
      "Warning message:\n",
      "\"package 'PASWR2' was built under R version 3.5.2\"Loading required package: lattice\n",
      "Loading required package: ggplot2\n"
     ]
    },
    {
     "data": {
      "text/plain": [
       "     speed1           speed2     \n",
       " Min.   : 56.45   Min.   :67.49  \n",
       " 1st Qu.: 68.05   1st Qu.:74.84  \n",
       " Median : 75.62   Median :81.60  \n",
       " Mean   : 78.49   Mean   :79.81  \n",
       " 3rd Qu.: 85.58   3rd Qu.:83.12  \n",
       " Max.   :105.68   Max.   :90.24  "
      ]
     },
     "metadata": {},
     "output_type": "display_data"
    },
    {
     "data": {
      "text/html": [
       "-0.26746470499351"
      ],
      "text/latex": [
       "-0.26746470499351"
      ],
      "text/markdown": [
       "-0.26746470499351"
      ],
      "text/plain": [
       "[1] -0.2674647"
      ]
     },
     "metadata": {},
     "output_type": "display_data"
    },
    {
     "data": {
      "text/html": [
       "'The p value is 0.63'"
      ],
      "text/latex": [
       "'The p value is 0.63'"
      ],
      "text/markdown": [
       "'The p value is 0.63'"
      ],
      "text/plain": [
       "[1] \"The p value is 0.63\""
      ]
     },
     "metadata": {},
     "output_type": "display_data"
    },
    {
     "data": {
      "text/plain": [
       "\n",
       "\tWelch Two Sample t-test\n",
       "\n",
       "data:  x and y\n",
       "t = -0.26746, df = 15.83, p-value = 0.6037\n",
       "alternative hypothesis: true difference in means is greater than 0\n",
       "95 percent confidence interval:\n",
       " -10.01106       Inf\n",
       "sample estimates:\n",
       "mean of x mean of y \n",
       " 78.48583  79.81500 \n"
      ]
     },
     "metadata": {},
     "output_type": "display_data"
    }
   ],
   "source": [
    "set.seed(1)\n",
    "\n",
    "#install.packages(\"PASWR2\",dependencies = TRUE)\n",
    "library(PASWR2)\n",
    "data(TENNIS)\n",
    "\n",
    "#Null: H1 - H2 = 0 & Alternative: H1 - H2 > 0. Note H1 is Speed1 and H2 is Speed2.\n",
    "#Sample size is 12\n",
    "#Alpha is 0.1\n",
    "#Logical test statistic to use is mean Xbar for Speed 1 & Speed 2\n",
    "\n",
    "summary(TENNIS)\n",
    "ten <-TENNIS\n",
    "\n",
    "x<-ten$speed1\n",
    "y<-ten$speed2\n",
    "\n",
    "xbar_1 = mean(x)\n",
    "ybar_2 = mean(y)\n",
    "n = nrow(ten)\n",
    "\n",
    "var_x<-sd(x)^2\n",
    "var_y<-sd(y)^2\n",
    "\n",
    "#Calculate the test statistic\n",
    "\n",
    "td.1 = sqrt((var_x/n) + (var_y/n)) \n",
    "t = (xbar_1 - ybar_2)/td.1\n",
    "t\n",
    "\n",
    "#Combine the data set\n",
    "\n",
    "z = c(x,y)\n",
    "zbar = mean(z)\n",
    "\n",
    "#Create new data sets centered around zbar\n",
    "\n",
    "x.1 = x - xbar_1 + zbar\n",
    "y.1 = y - ybar_2 + zbar\n",
    "\n",
    "#Bootstrapping samples\n",
    "\n",
    "b=500\n",
    "xstar = replicate(b, sample(x.1, n, replace = TRUE))\n",
    "ystar = replicate(b, sample(y.1, n, replace = TRUE))\n",
    "\n",
    "xstarbar = colMeans(xstar)\n",
    "ystarbar = colMeans(ystar)\n",
    "xstarvar = NA\n",
    "\n",
    "for (i in 1:500) {\n",
    "    xstarvar[i] = var(xstar[,i])\n",
    "}\n",
    "\n",
    "ystarvar = NA\n",
    "\n",
    "for (i in 1:500) {\n",
    "    ystarvar[i] = var(ystar[,i])\n",
    "}\n",
    "\n",
    "\n",
    "#Calculate the test statistic for each bootstrap sample\n",
    "\n",
    "tstarx = NA\n",
    "tstary = NA\n",
    "tstar = NA\n",
    "\n",
    "for (i in 1:500) {\n",
    "    tstarx[i] = mean(xstarbar[i])\n",
    "}\n",
    "\n",
    "for (i in 1:500) {\n",
    "    tstary[i] = mean(ystarbar[i])\n",
    "}\n",
    "\n",
    "for (i in 1:500) {\n",
    "    tstar[i] = (tstarx[i] - tstary[i]) / sqrt((xstarvar[i]/n) + (ystarvar[i]/n))\n",
    "}\n",
    "\n",
    "#Estimate the P-value\n",
    "\n",
    "count =0\n",
    "for (i in 1:500) {\n",
    "    if (tstar[i] > t)\n",
    "        count = count + 1\n",
    "}\n",
    "\n",
    "paste(\"The p value is\", count/b)\n",
    "\n",
    "#Hypothesis test\n",
    "\n",
    "t.test(x,y,alternative = \"greater\")\n"
   ]
  },
  {
   "cell_type": "markdown",
   "metadata": {},
   "source": [
    "#### Since the computed P-value is 0.63 which is higher than the $\\alpha = 0.10$ for rejection. We fail to reject the null hypothesis and conclude that there are no difference in the detection of ball speed by both machines. "
   ]
  },
  {
   "cell_type": "markdown",
   "metadata": {},
   "source": [
    "### Problem B.3\n",
    "Let $X_1,...,X_{30} \\overset{iid}{\\sim}N(1,9)$. The formula for a 90% confidence interval for $\\mu$ is \n",
    "\n",
    "$$\\bar{X} \\pm 1.64\\frac{\\sigma}{\\sqrt{n}}.$$\n",
    "\n",
    "Let's conduct a simulation to confirm the coverage of this confidence interval.\n",
    "\n",
    "#### (a) Generate $m = 500$ random samples of size $n = 30$ from $N(1,9)$ and calculate the 90% confidence interval for each. Don't print anything."
   ]
  },
  {
   "cell_type": "code",
   "execution_count": 4,
   "metadata": {},
   "outputs": [],
   "source": [
    "set.seed(1)\n",
    "\n",
    "m = 500\n",
    "lb = NA\n",
    "ub = NA\n",
    "n = 30\n",
    "for(i in 1:m){\n",
    "    \n",
    " x<-rnorm(n=30,mean=1,sd=sqrt(9))\n",
    "        xbar = mean(x)\n",
    "         x_sd<-sqrt((n-1)/n)*sd(x)\n",
    "         lb[i]<-xbar-1.64*(x_sd/sqrt(n))\n",
    "         ub[i]<-xbar+1.64*(x_sd/sqrt(n)) \n",
    "}\n",
    "\n"
   ]
  },
  {
   "cell_type": "markdown",
   "metadata": {},
   "source": [
    "#### (b) Estimate the coverage by finding the number of intervals that cover the true mean, and dividing my $m$."
   ]
  },
  {
   "cell_type": "code",
   "execution_count": 5,
   "metadata": {},
   "outputs": [
    {
     "data": {
      "text/html": [
       "'The coverage is 90.2'"
      ],
      "text/latex": [
       "'The coverage is 90.2'"
      ],
      "text/markdown": [
       "'The coverage is 90.2'"
      ],
      "text/plain": [
       "[1] \"The coverage is 90.2\""
      ]
     },
     "metadata": {},
     "output_type": "display_data"
    }
   ],
   "source": [
    "count = 0\n",
    "\n",
    "for (i in 1:500) {\n",
    "    if (lb[i] <= 1 && 1 <= ub[i])\n",
    "    count = count + 1\n",
    "}\n",
    "\n",
    "paste(\"The coverage is\",count/500*100)\n"
   ]
  },
  {
   "cell_type": "markdown",
   "metadata": {},
   "source": [
    "### Problem B.4\n",
    "\n",
    "Suppose that $X_1,...,X_8 \\overset{iid}{\\sim} Exp(\\lambda)$. \n",
    "\n",
    "\n",
    "#### (a) Compute a $90\\%$ pivot confidence interval for the population variance: $Var(X) = 1/\\lambda^2 = \\theta$.\n",
    "\n"
   ]
  },
  {
   "cell_type": "code",
   "execution_count": 6,
   "metadata": {},
   "outputs": [
    {
     "data": {
      "text/html": [
       "<span style=white-space:pre-wrap>'The lower interval is  0.199301805791633'</span>"
      ],
      "text/latex": [
       "'The lower interval is  0.199301805791633'"
      ],
      "text/markdown": [
       "<span style=white-space:pre-wrap>'The lower interval is  0.199301805791633'</span>"
      ],
      "text/plain": [
       "[1] \"The lower interval is  0.199301805791633\""
      ]
     },
     "metadata": {},
     "output_type": "display_data"
    },
    {
     "data": {
      "text/html": [
       "<span style=white-space:pre-wrap>'The upper interval is  1.3263728868269'</span>"
      ],
      "text/latex": [
       "'The upper interval is  1.3263728868269'"
      ],
      "text/markdown": [
       "<span style=white-space:pre-wrap>'The upper interval is  1.3263728868269'</span>"
      ],
      "text/plain": [
       "[1] \"The upper interval is  1.3263728868269\""
      ]
     },
     "metadata": {},
     "output_type": "display_data"
    }
   ],
   "source": [
    "set.seed(1)\n",
    "\n",
    "x = rexp(8,1)\n",
    "\n",
    "n=8\n",
    "\n",
    "se =  sqrt((n-1)/n)*sd(x)\n",
    "\n",
    "b = 500\n",
    "bootstrap <-replicate(b,sample(x,8,replace=TRUE))\n",
    "\n",
    "se1 = sqrt((n-1)/n)*apply(bootstrap,2,sd)\n",
    "\n",
    "varbootstrap = se1^2\n",
    "\n",
    "ub.1 <- quantile(varbootstrap,0.05)\n",
    "lb.1 <- quantile(varbootstrap,0.95)\n",
    "\n",
    "lb.pivot <- 2*(se^2) - lb.1\n",
    "ub.pivot <- 2*(se^2) - ub.1\n",
    "\n",
    "paste(\"The lower interval is \",lb.pivot)\n",
    "paste(\"The upper interval is \",ub.pivot)"
   ]
  },
  {
   "cell_type": "markdown",
   "metadata": {},
   "source": [
    "#### (b) Investigate the coverage of the bootstrap pivot confidence interval from part (a)."
   ]
  },
  {
   "cell_type": "code",
   "execution_count": 7,
   "metadata": {
    "scrolled": true
   },
   "outputs": [
    {
     "data": {
      "text/html": [
       "<span style=white-space:pre-wrap>'The coverage is  0.47'</span>"
      ],
      "text/latex": [
       "'The coverage is  0.47'"
      ],
      "text/markdown": [
       "<span style=white-space:pre-wrap>'The coverage is  0.47'</span>"
      ],
      "text/plain": [
       "[1] \"The coverage is  0.47\""
      ]
     },
     "metadata": {},
     "output_type": "display_data"
    }
   ],
   "source": [
    "set.seed(1)\n",
    "\n",
    "count = 0\n",
    "\n",
    "for (i in 1:500) {\n",
    "    x = rexp(n=8,1)\n",
    "    n = 8\n",
    "    se = sqrt((n-1)/n)*sd(x)\n",
    "    b=500\n",
    "    bootsample =  replicate(500, sample(x,8,replace = TRUE))\n",
    "\n",
    "    se1 = sqrt((n-1)/n)*apply(bootsample,2,sd)\n",
    "    \n",
    "    var_bootsample<-se1^2\n",
    "    u = 2*(se^2) - quantile(var_bootsample,0.05)\n",
    "    l = 2*(se^2) - quantile(var_bootsample,0.95)\n",
    "\n",
    "    if(1 >= l & 1 <= u) {\n",
    "        count = count + 1\n",
    "        }\n",
    "    \n",
    "        }\n",
    "paste(\"The coverage is \",count/500)"
   ]
  },
  {
   "cell_type": "markdown",
   "metadata": {},
   "source": [
    "### Problem B.5\n",
    "\n",
    "#### (a) Load the \"gala\" dataset, and describe the variables. "
   ]
  },
  {
   "cell_type": "code",
   "execution_count": 8,
   "metadata": {},
   "outputs": [
    {
     "name": "stderr",
     "output_type": "stream",
     "text": [
      "\n",
      "Attaching package: 'faraway'\n",
      "\n",
      "The following object is masked from 'package:lattice':\n",
      "\n",
      "    melanoma\n",
      "\n"
     ]
    },
    {
     "data": {
      "text/plain": [
       "    Species          Endemics          Area            Elevation      \n",
       " Min.   :  2.00   Min.   : 0.00   Min.   :   0.010   Min.   :  25.00  \n",
       " 1st Qu.: 13.00   1st Qu.: 7.25   1st Qu.:   0.258   1st Qu.:  97.75  \n",
       " Median : 42.00   Median :18.00   Median :   2.590   Median : 192.00  \n",
       " Mean   : 85.23   Mean   :26.10   Mean   : 261.709   Mean   : 368.03  \n",
       " 3rd Qu.: 96.00   3rd Qu.:32.25   3rd Qu.:  59.237   3rd Qu.: 435.25  \n",
       " Max.   :444.00   Max.   :95.00   Max.   :4669.320   Max.   :1707.00  \n",
       "    Nearest          Scruz           Adjacent      \n",
       " Min.   : 0.20   Min.   :  0.00   Min.   :   0.03  \n",
       " 1st Qu.: 0.80   1st Qu.: 11.03   1st Qu.:   0.52  \n",
       " Median : 3.05   Median : 46.65   Median :   2.59  \n",
       " Mean   :10.06   Mean   : 56.98   Mean   : 261.10  \n",
       " 3rd Qu.:10.03   3rd Qu.: 81.08   3rd Qu.:  59.24  \n",
       " Max.   :47.40   Max.   :290.20   Max.   :4669.32  "
      ]
     },
     "metadata": {},
     "output_type": "display_data"
    },
    {
     "name": "stdout",
     "output_type": "stream",
     "text": [
      "'data.frame':\t30 obs. of  7 variables:\n",
      " $ Species  : num  58 31 3 25 2 18 24 10 8 2 ...\n",
      " $ Endemics : num  23 21 3 9 1 11 0 7 4 2 ...\n",
      " $ Area     : num  25.09 1.24 0.21 0.1 0.05 ...\n",
      " $ Elevation: num  346 109 114 46 77 119 93 168 71 112 ...\n",
      " $ Nearest  : num  0.6 0.6 2.8 1.9 1.9 8 6 34.1 0.4 2.6 ...\n",
      " $ Scruz    : num  0.6 26.3 58.7 47.4 1.9 ...\n",
      " $ Adjacent : num  1.84 572.33 0.78 0.18 903.82 ...\n"
     ]
    }
   ],
   "source": [
    "#install.packages(\"faraway\", dependencies = TRUE)\n",
    "library(faraway)\n",
    "data(gala)\n",
    "\n",
    "summary(gala)\n",
    "\n",
    "str(gala)"
   ]
  },
  {
   "cell_type": "markdown",
   "metadata": {},
   "source": [
    "#### There are 7 variables which include Species, Endemics, Area, Elevation, Nearest, Scruz, Adjacent.\n",
    "\n",
    "#### Species\n",
    "#### the number of plant species found on the island\n",
    "\n",
    "#### Endemics\n",
    "#### the number of endemic species\n",
    "\n",
    "#### Area\n",
    "#### the area of the island (km22)\n",
    "\n",
    "#### Elevation\n",
    "#### the highest elevation of the island (m)\n",
    "\n",
    "#### Nearest\n",
    "#### the distance from the nearest island (km)\n",
    "\n",
    "#### Scruz\n",
    "#### the distance from Santa Cruz island (km)\n",
    "\n",
    "#### Adjacent\n",
    "#### the area of the adjacent island (square km)\n"
   ]
  },
  {
   "cell_type": "markdown",
   "metadata": {},
   "source": [
    "#### (b) Explore the relationship between the Species variable (response) and Endemics, Elevation, Nearest, and Adjacent (predictor variables). You might do so by creating four separate scatter plots (ideally, using ggplot()!). Do these relationships look linear? Does the variability in Species change as a function of any of the predictors? Are there any outliers in any of the plots?"
   ]
  },
  {
   "cell_type": "code",
   "execution_count": 9,
   "metadata": {},
   "outputs": [
    {
     "data": {},
     "metadata": {},
     "output_type": "display_data"
    },
    {
     "data": {},
     "metadata": {},
     "output_type": "display_data"
    },
    {
     "data": {
      "image/png": "[encoded data removed]",
      "text/plain": [
       "plot without title"
      ]
     },
     "metadata": {},
     "output_type": "display_data"
    },
    {
     "data": {},
     "metadata": {},
     "output_type": "display_data"
    },
    {
     "data": {
      "image/png": "[encoded data removed]",
      "text/plain": [
       "plot without title"
      ]
     },
     "metadata": {},
     "output_type": "display_data"
    },
    {
     "data": {},
     "metadata": {},
     "output_type": "display_data"
    },
    {
     "data": {
      "image/png": "[encoded data removed]",
      "text/plain": [
       "plot without title"
      ]
     },
     "metadata": {},
     "output_type": "display_data"
    },
    {
     "data": {
      "image/png": "[encoded data removed]",
      "text/plain": [
       "plot without title"
      ]
     },
     "metadata": {},
     "output_type": "display_data"
    }
   ],
   "source": [
    "library(ggplot2)\n",
    "#ggplot(data = nameofdata) + geom_point(mapping = aes(x = predictor, y = response))\n",
    "\n",
    "ggplot(data = gala) + \n",
    "  geom_point(mapping = aes(x = Endemics, y = Species)) + geom_smooth(method=lm, mapping = aes(x = Endemics, y = Species), se=TRUE)\n",
    "\n",
    "ggplot(data = gala) + \n",
    "  geom_point(mapping = aes(x = Elevation, y = Species)) + geom_smooth(method=lm, mapping = aes(x = Elevation, y = Species), se=TRUE)\n",
    "\n",
    "ggplot(data = gala) + \n",
    "  geom_point(mapping = aes(x = Nearest, y = Species)) + geom_smooth(method=lm, mapping = aes(x = Nearest, y = Species), se=TRUE)\n",
    "\n",
    "ggplot(data = gala) + \n",
    "  geom_point(mapping = aes(x = Adjacent, y = Species)) + geom_smooth(method=lm, mapping = aes(x = Adjacent, y = Species), se=TRUE)"
   ]
  },
  {
   "cell_type": "markdown",
   "metadata": {
    "collapsed": true
   },
   "source": [
    "#### Do these relationships look linear? Does the variability in Species change as a function of any of the predictors? Are there any outliers in any of the plots? \n",
    "\n",
    "##### Species (y) vs Endemics (x)\n",
    "###### There is a positive linear relationship displayed. As the Endemics variable increase, generally species variable increase as well. Yes, the variability in species change as a function of Endemics predictor.. Yes, there are outliers in the plot. \n",
    "\n",
    "##### Species (y) vs Elevation (x)\n",
    "###### There is a weak positive linear relationship displayed. As the Elevation variable increase, generally species variable increase as well. Yes, the variability in species change as a function of Elevation predictor. The variablity tends increase as the Elevation increase. Yes, there are outliers in the plot. \n",
    "\n",
    "##### Species (y) vs Nearest (x)\n",
    "###### There is no linear relationship displayed. As the Nearest variable increase, there is not much change in the species variable. No, the variability in species does not change much. Most of the points are close to each other but some points are further away from the cluster of points in the above plot. Yes, there are outliers in the plot. \n",
    "\n",
    "##### Species (y) vs Adjacent (x)\n",
    "###### There is no linear relationship displayed. As the Adjacent variable increase, there is generally no change in the species variable. No, the variability in species does not change much. In fact, most of the points are close to each other. Yes, there are outliers in the plot. "
   ]
  }
 ],
 "metadata": {
  "kernelspec": {
   "display_name": "R",
   "language": "R",
   "name": "ir"
  },
  "language_info": {
   "codemirror_mode": "r",
   "file_extension": ".r",
   "mimetype": "text/x-r-source",
   "name": "R",
   "pygments_lexer": "r",
   "version": "3.5.1"
  }
 },
 "nbformat": 4,
 "nbformat_minor": 2
}
