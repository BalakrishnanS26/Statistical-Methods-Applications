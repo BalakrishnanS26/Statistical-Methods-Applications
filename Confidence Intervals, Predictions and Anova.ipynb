{
 "cells": [
  {
   "cell_type": "markdown",
   "metadata": {},
   "source": [
    "## B. Computational Problems"
   ]
  },
  {
   "cell_type": "markdown",
   "metadata": {},
   "source": [
    "### Problem B.1\n",
    "\n",
    "#### (a) Load the ${\\tt prostate}$ data into R using the faraway package. The prostate data frame has 97 rows and 9 columns. It comes from a study on 97 men with prostate cancer who were due to receive a radical prostatectomy."
   ]
  },
  {
   "cell_type": "code",
   "execution_count": 1,
   "metadata": {},
   "outputs": [
    {
     "data": {
      "text/plain": [
       "     lcavol           lweight           age             lbph        \n",
       " Min.   :-1.3471   Min.   :2.375   Min.   :41.00   Min.   :-1.3863  \n",
       " 1st Qu.: 0.5128   1st Qu.:3.376   1st Qu.:60.00   1st Qu.:-1.3863  \n",
       " Median : 1.4469   Median :3.623   Median :65.00   Median : 0.3001  \n",
       " Mean   : 1.3500   Mean   :3.653   Mean   :63.87   Mean   : 0.1004  \n",
       " 3rd Qu.: 2.1270   3rd Qu.:3.878   3rd Qu.:68.00   3rd Qu.: 1.5581  \n",
       " Max.   : 3.8210   Max.   :6.108   Max.   :79.00   Max.   : 2.3263  \n",
       "      svi              lcp             gleason          pgg45       \n",
       " Min.   :0.0000   Min.   :-1.3863   Min.   :6.000   Min.   :  0.00  \n",
       " 1st Qu.:0.0000   1st Qu.:-1.3863   1st Qu.:6.000   1st Qu.:  0.00  \n",
       " Median :0.0000   Median :-0.7985   Median :7.000   Median : 15.00  \n",
       " Mean   :0.2165   Mean   :-0.1794   Mean   :6.753   Mean   : 24.38  \n",
       " 3rd Qu.:0.0000   3rd Qu.: 1.1786   3rd Qu.:7.000   3rd Qu.: 40.00  \n",
       " Max.   :1.0000   Max.   : 2.9042   Max.   :9.000   Max.   :100.00  \n",
       "      lpsa        \n",
       " Min.   :-0.4308  \n",
       " 1st Qu.: 1.7317  \n",
       " Median : 2.5915  \n",
       " Mean   : 2.4784  \n",
       " 3rd Qu.: 3.0564  \n",
       " Max.   : 5.5829  "
      ]
     },
     "metadata": {},
     "output_type": "display_data"
    }
   ],
   "source": [
    "library(faraway)\n",
    "data(prostate)\n",
    "\n",
    "summary(prostate)\n"
   ]
  },
  {
   "cell_type": "markdown",
   "metadata": {},
   "source": [
    "#### (b) Conduct MLR with lpsa as the response and all of the other variables as predictors. Compute the 90% and 95% confidence intervals for the parameter associated with the age variable. Using these intervals, what could we have deduced about the p-value for age in the regression summary. "
   ]
  },
  {
   "cell_type": "code",
   "execution_count": 2,
   "metadata": {},
   "outputs": [
    {
     "data": {
      "text/plain": [
       "\n",
       "Call:\n",
       "lm(formula = lpsa ~ ., data = prostate)\n",
       "\n",
       "Residuals:\n",
       "    Min      1Q  Median      3Q     Max \n",
       "-1.7331 -0.3713 -0.0170  0.4141  1.6381 \n",
       "\n",
       "Coefficients:\n",
       "             Estimate Std. Error t value Pr(>|t|)    \n",
       "(Intercept)  0.669337   1.296387   0.516  0.60693    \n",
       "lcavol       0.587022   0.087920   6.677 2.11e-09 ***\n",
       "lweight      0.454467   0.170012   2.673  0.00896 ** \n",
       "age         -0.019637   0.011173  -1.758  0.08229 .  \n",
       "lbph         0.107054   0.058449   1.832  0.07040 .  \n",
       "svi          0.766157   0.244309   3.136  0.00233 ** \n",
       "lcp         -0.105474   0.091013  -1.159  0.24964    \n",
       "gleason      0.045142   0.157465   0.287  0.77503    \n",
       "pgg45        0.004525   0.004421   1.024  0.30886    \n",
       "---\n",
       "Signif. codes:  0 '***' 0.001 '**' 0.01 '*' 0.05 '.' 0.1 ' ' 1\n",
       "\n",
       "Residual standard error: 0.7084 on 88 degrees of freedom\n",
       "Multiple R-squared:  0.6548,\tAdjusted R-squared:  0.6234 \n",
       "F-statistic: 20.86 on 8 and 88 DF,  p-value: < 2.2e-16\n"
      ]
     },
     "metadata": {},
     "output_type": "display_data"
    },
    {
     "data": {
      "text/html": [
       "<table>\n",
       "<thead><tr><th></th><th scope=col>5 %</th><th scope=col>95 %</th></tr></thead>\n",
       "<tbody>\n",
       "\t<tr><th scope=row>age</th><td>-0.0382102  </td><td>-0.001064151</td></tr>\n",
       "</tbody>\n",
       "</table>\n"
      ],
      "text/latex": [
       "\\begin{tabular}{r|ll}\n",
       "  & 5 \\% & 95 \\%\\\\\n",
       "\\hline\n",
       "\tage & -0.0382102   & -0.001064151\\\\\n",
       "\\end{tabular}\n"
      ],
      "text/markdown": [
       "\n",
       "| <!--/--> | 5 % | 95 % | \n",
       "|---|\n",
       "| age | -0.0382102   | -0.001064151 | \n",
       "\n",
       "\n"
      ],
      "text/plain": [
       "    5 %        95 %        \n",
       "age -0.0382102 -0.001064151"
      ]
     },
     "metadata": {},
     "output_type": "display_data"
    },
    {
     "data": {
      "text/html": [
       "<table>\n",
       "<thead><tr><th></th><th scope=col>2.5 %</th><th scope=col>97.5 %</th></tr></thead>\n",
       "<tbody>\n",
       "\t<tr><th scope=row>age</th><td>-0.04184062</td><td>0.002566267</td></tr>\n",
       "</tbody>\n",
       "</table>\n"
      ],
      "text/latex": [
       "\\begin{tabular}{r|ll}\n",
       "  & 2.5 \\% & 97.5 \\%\\\\\n",
       "\\hline\n",
       "\tage & -0.04184062 & 0.002566267\\\\\n",
       "\\end{tabular}\n"
      ],
      "text/markdown": [
       "\n",
       "| <!--/--> | 2.5 % | 97.5 % | \n",
       "|---|\n",
       "| age | -0.04184062 | 0.002566267 | \n",
       "\n",
       "\n"
      ],
      "text/plain": [
       "    2.5 %       97.5 %     \n",
       "age -0.04184062 0.002566267"
      ]
     },
     "metadata": {},
     "output_type": "display_data"
    }
   ],
   "source": [
    "lmod = lm(lpsa ~ ., data = prostate)\n",
    "summary(lmod)\n",
    "\n",
    "#90% confidence\n",
    "\n",
    "confint(lmod,4, level = 0.90)\n",
    "\n",
    "#95% confidence\n",
    "\n",
    "confint(lmod,4, level = 0.95)\n"
   ]
  },
  {
   "cell_type": "markdown",
   "metadata": {},
   "source": [
    "#### Note, the P-value for the age variable is 0.08229. This is greater than 0.05. We can conclude that age variable is not a significant predictor for Ipsa."
   ]
  },
  {
   "cell_type": "markdown",
   "metadata": {},
   "source": [
    "#### (c) In class, we discussed a reason why conducting several individual hypothesis tests (e.g., t-tests for regression parameters) is problematic. It turns out that computing individual confidence intervals has a similar issue. Instead, we might compute a \"joint confidence region\" for several parameters.  Compute and display the 95% joint confidence region for the parameters associated with age and lbph. Plot the origin on this display. The location of the origin on the display tells us the outcome of certain hypothesis test. State the test and its outcome. \n",
    "\n",
    "The ellipse package and corresponding function should help here. Use the code below (and help files) as a guide."
   ]
  },
  {
   "cell_type": "code",
   "execution_count": 3,
   "metadata": {},
   "outputs": [
    {
     "name": "stderr",
     "output_type": "stream",
     "text": [
      "\n",
      "Attaching package: 'ellipse'\n",
      "\n",
      "The following object is masked from 'package:graphics':\n",
      "\n",
      "    pairs\n",
      "\n"
     ]
    },
    {
     "data": {
      "image/png": "[encoded data removed]",
      "text/plain": [
       "plot without title"
      ]
     },
     "metadata": {},
     "output_type": "display_data"
    }
   ],
   "source": [
    "#install.packages(\"ellipse\")\n",
    "library(ellipse)\n",
    "\n",
    "plot(ellipse(lmod,c(4,5),type = \"l\",level=0.95))\n",
    "\n",
    "points(0,0,col=\"red\",pch=19)"
   ]
  },
  {
   "cell_type": "markdown",
   "metadata": {},
   "source": [
    "#### H0:age=0 and lbph=0. Note, since the origin zero is inside the joint confidence region for age and ibph, we cannot reject the null hypothesis which indicates that both age and ibph are zero."
   ]
  },
  {
   "cell_type": "markdown",
   "metadata": {},
   "source": [
    "#### (d) Remove all predictors that are not significant at the $\\alpha = 0.05$ level. Test this model against the original model. Which model is preferred?"
   ]
  },
  {
   "cell_type": "code",
   "execution_count": 4,
   "metadata": {},
   "outputs": [
    {
     "data": {
      "text/html": [
       "<table>\n",
       "<thead><tr><th scope=col>Res.Df</th><th scope=col>RSS</th><th scope=col>Df</th><th scope=col>Sum of Sq</th><th scope=col>F</th><th scope=col>Pr(&gt;F)</th></tr></thead>\n",
       "<tbody>\n",
       "\t<tr><td>93       </td><td>47.78486 </td><td>NA       </td><td>      NA </td><td>      NA </td><td>       NA</td></tr>\n",
       "\t<tr><td>88       </td><td>44.16302 </td><td> 5       </td><td>3.621837 </td><td>1.443387 </td><td>0.2167334</td></tr>\n",
       "</tbody>\n",
       "</table>\n"
      ],
      "text/latex": [
       "\\begin{tabular}{r|llllll}\n",
       " Res.Df & RSS & Df & Sum of Sq & F & Pr(>F)\\\\\n",
       "\\hline\n",
       "\t 93        & 47.78486  & NA        &       NA  &       NA  &        NA\\\\\n",
       "\t 88        & 44.16302  &  5        & 3.621837  & 1.443387  & 0.2167334\\\\\n",
       "\\end{tabular}\n"
      ],
      "text/markdown": [
       "\n",
       "Res.Df | RSS | Df | Sum of Sq | F | Pr(>F) | \n",
       "|---|---|\n",
       "| 93        | 47.78486  | NA        |       NA  |       NA  |        NA | \n",
       "| 88        | 44.16302  |  5        | 3.621837  | 1.443387  | 0.2167334 | \n",
       "\n",
       "\n"
      ],
      "text/plain": [
       "  Res.Df RSS      Df Sum of Sq F        Pr(>F)   \n",
       "1 93     47.78486 NA       NA        NA        NA\n",
       "2 88     44.16302  5 3.621837  1.443387 0.2167334"
      ]
     },
     "metadata": {},
     "output_type": "display_data"
    }
   ],
   "source": [
    "lmod.1 = lm(lpsa ~ lcavol + lweight + svi  , data = prostate)\n",
    "\n",
    "anova(lmod.1,lmod)"
   ]
  },
  {
   "cell_type": "markdown",
   "metadata": {},
   "source": [
    "#### Based on the above test, we can see that the p-value is greater than 0.05. That tells us that the null hypothesis which states that the reduced model is better. Based on the P-value, we cannot reject the null-hypothesis. "
   ]
  },
  {
   "cell_type": "markdown",
   "metadata": {},
   "source": [
    "### Problem B.2\n",
    "\n",
    "This [link](https://www.colorado.edu/amath/sites/default/files/attached-files/advertising.txt) contains advertising data. This dataset contains, in thousands of dollars, TV, Radio, and Newspaper budgets for 200 different markets along with the Sales, in thousands of units, for each market.\n",
    "\n",
    "#### (a) Load the dataset using the link above and split the data into a training set and a test set, as done in the previous homework. (Remove the variable X.)"
   ]
  },
  {
   "cell_type": "code",
   "execution_count": 5,
   "metadata": {},
   "outputs": [
    {
     "name": "stdout",
     "output_type": "stream",
     "text": [
      "'data.frame':\t200 obs. of  4 variables:\n",
      " $ TV       : num  230.1 44.5 17.2 151.5 180.8 ...\n",
      " $ radio    : num  37.8 39.3 45.9 41.3 10.8 48.9 32.8 19.6 2.1 2.6 ...\n",
      " $ newspaper: num  69.2 45.1 69.3 58.5 58.4 75 23.5 11.6 1 21.2 ...\n",
      " $ sales    : num  22.1 10.4 9.3 18.5 12.9 7.2 11.8 13.2 4.8 10.6 ...\n"
     ]
    },
    {
     "data": {
      "text/html": [
       "160"
      ],
      "text/latex": [
       "160"
      ],
      "text/markdown": [
       "160"
      ],
      "text/plain": [
       "[1] 160"
      ]
     },
     "metadata": {},
     "output_type": "display_data"
    },
    {
     "data": {
      "text/html": [
       "40"
      ],
      "text/latex": [
       "40"
      ],
      "text/markdown": [
       "40"
      ],
      "text/plain": [
       "[1] 40"
      ]
     },
     "metadata": {},
     "output_type": "display_data"
    }
   ],
   "source": [
    "advert = read.table(\"https://www.colorado.edu/amath/sites/default/files/attached-files/advertising.txt\")\n",
    "str(advert)\n",
    "\n",
    "## Testing set 20% of data\n",
    "\n",
    "sample <- sample(1:nrow(advert), size = 0.20*nrow(advert), replace = F)\n",
    "\n",
    "test <- advert[sample, ]\n",
    "\n",
    "## Training set 80% of data\n",
    "\n",
    "train  <- advert[-sample, ]\n",
    "\n",
    "nrow(train)\n",
    "nrow(test)"
   ]
  },
  {
   "cell_type": "markdown",
   "metadata": {},
   "source": [
    "#### (b) Fit the full MLR model. Which variables are statistically significant at the 5% level? Discuss the difference between statistical and practical significance in this context. Also, the estimate for newspaper is negative. Do you actually think that sales *suffer* as a result of newspaper advertising?"
   ]
  },
  {
   "cell_type": "code",
   "execution_count": 6,
   "metadata": {},
   "outputs": [
    {
     "data": {
      "text/plain": [
       "\n",
       "Call:\n",
       "lm(formula = sales ~ ., data = train)\n",
       "\n",
       "Residuals:\n",
       "    Min      1Q  Median      3Q     Max \n",
       "-8.5538 -0.6662  0.2710  1.2711  2.6578 \n",
       "\n",
       "Coefficients:\n",
       "             Estimate Std. Error t value Pr(>|t|)    \n",
       "(Intercept)  3.052337   0.346440   8.811 2.28e-15 ***\n",
       "TV           0.046745   0.001598  29.244  < 2e-16 ***\n",
       "radio        0.178867   0.009821  18.212  < 2e-16 ***\n",
       "newspaper   -0.001654   0.006806  -0.243    0.808    \n",
       "---\n",
       "Signif. codes:  0 '***' 0.001 '**' 0.01 '*' 0.05 '.' 0.1 ' ' 1\n",
       "\n",
       "Residual standard error: 1.717 on 156 degrees of freedom\n",
       "Multiple R-squared:  0.8956,\tAdjusted R-squared:  0.8936 \n",
       "F-statistic: 445.9 on 3 and 156 DF,  p-value: < 2.2e-16\n"
      ]
     },
     "metadata": {},
     "output_type": "display_data"
    }
   ],
   "source": [
    "lmod.2 = lm(sales ~ ., data = train)\n",
    "summary(lmod.2)"
   ]
  },
  {
   "cell_type": "markdown",
   "metadata": {},
   "source": [
    "#### TV and Radio variable are significant at the 5% level. Statistical significance means that we can say that the parameters TV and Radio are statistically significant since their p-values are lower than 0.05. \n",
    "\n",
    "#### Practical Significance means that if we increase 1 unit of TV keeping other parameters in the model constant, the average increase in the sales will increase by 0.045 units. Also, if we increase 1 unit of Radio keeping other parameters in the model constant the average increase in the sales will increase by 0.183 units.\n",
    "\n",
    "#### No, i do not thing that sales actually suffer as a result of newspaper advertising. Any sort of advertising should potentially cause a positive effect on sales, it does not make sense for sales to decrease if it is advertised in newspaper. If we increase the data, this coefficient might change to positive."
   ]
  },
  {
   "cell_type": "markdown",
   "metadata": {},
   "source": [
    "#### (c) Imagine that, in your test set, you don't have any response measurements. Compute predictions--including 95% *prediction* intervals--of sales for all measurements in your test set. Print the prediction MSE and the first five prediction intervals."
   ]
  },
  {
   "cell_type": "code",
   "execution_count": 7,
   "metadata": {},
   "outputs": [
    {
     "data": {
      "text/html": [
       "<table>\n",
       "<thead><tr><th></th><th scope=col>fit</th><th scope=col>lwr</th><th scope=col>upr</th></tr></thead>\n",
       "<tbody>\n",
       "\t<tr><th scope=row>200</th><td>15.42566</td><td>11.99485</td><td>18.85646</td></tr>\n",
       "\t<tr><th scope=row>103</th><td>17.92137</td><td>14.48213</td><td>21.36060</td></tr>\n",
       "\t<tr><th scope=row>138</th><td>20.91687</td><td>17.47498</td><td>24.35876</td></tr>\n",
       "\t<tr><th scope=row>132</th><td>15.89662</td><td>12.43966</td><td>19.35359</td></tr>\n",
       "\t<tr><th scope=row>54</th><td>19.75448</td><td>16.32064</td><td>23.18831</td></tr>\n",
       "</tbody>\n",
       "</table>\n"
      ],
      "text/latex": [
       "\\begin{tabular}{r|lll}\n",
       "  & fit & lwr & upr\\\\\n",
       "\\hline\n",
       "\t200 & 15.42566 & 11.99485 & 18.85646\\\\\n",
       "\t103 & 17.92137 & 14.48213 & 21.36060\\\\\n",
       "\t138 & 20.91687 & 17.47498 & 24.35876\\\\\n",
       "\t132 & 15.89662 & 12.43966 & 19.35359\\\\\n",
       "\t54 & 19.75448 & 16.32064 & 23.18831\\\\\n",
       "\\end{tabular}\n"
      ],
      "text/markdown": [
       "\n",
       "| <!--/--> | fit | lwr | upr | \n",
       "|---|---|---|---|---|\n",
       "| 200 | 15.42566 | 11.99485 | 18.85646 | \n",
       "| 103 | 17.92137 | 14.48213 | 21.36060 | \n",
       "| 138 | 20.91687 | 17.47498 | 24.35876 | \n",
       "| 132 | 15.89662 | 12.43966 | 19.35359 | \n",
       "| 54 | 19.75448 | 16.32064 | 23.18831 | \n",
       "\n",
       "\n"
      ],
      "text/plain": [
       "    fit      lwr      upr     \n",
       "200 15.42566 11.99485 18.85646\n",
       "103 17.92137 14.48213 21.36060\n",
       "138 20.91687 17.47498 24.35876\n",
       "132 15.89662 12.43966 19.35359\n",
       "54  19.75448 16.32064 23.18831"
      ]
     },
     "metadata": {},
     "output_type": "display_data"
    },
    {
     "data": {
      "text/html": [
       "2.56552225233445"
      ],
      "text/latex": [
       "2.56552225233445"
      ],
      "text/markdown": [
       "2.56552225233445"
      ],
      "text/plain": [
       "[1] 2.565522"
      ]
     },
     "metadata": {},
     "output_type": "display_data"
    }
   ],
   "source": [
    "#Compute predictions\n",
    "\n",
    "a = predict(lmod.2, newdata = data.frame(test), type = \"response\")\n",
    "\n",
    "#95% prediction intervals\n",
    "\n",
    "b = predict(lmod.2, newdata = data.frame(test), interval=\"predict\")\n",
    "\n",
    "#First five prediction intervals\n",
    "\n",
    "b[1:5,]\n",
    "\n",
    "#Prediction MSE\n",
    "\n",
    "mean((test$sales - predict.lm(lmod.2, newdata = data.frame(test))) ^ 2)"
   ]
  },
  {
   "cell_type": "markdown",
   "metadata": {},
   "source": [
    "#### (d) Add some polynomial terms to the model. Specifically, add $TV^2$ and $radio^2$ to the model. To do this, you'll need to use the I() function: I(predictor^2). Comment on the significance of these terms. Assume $\\alpha = 0.05$."
   ]
  },
  {
   "cell_type": "code",
   "execution_count": 8,
   "metadata": {},
   "outputs": [
    {
     "data": {
      "text/plain": [
       "\n",
       "Call:\n",
       "lm(formula = sales ~ . + I(TV^2) + I(radio^2), data = train)\n",
       "\n",
       "Residuals:\n",
       "    Min      1Q  Median      3Q     Max \n",
       "-7.1635 -0.8660  0.0199  1.1273  3.4277 \n",
       "\n",
       "Coefficients:\n",
       "              Estimate Std. Error t value Pr(>|t|)    \n",
       "(Intercept)  1.543e+00  4.886e-01   3.159  0.00191 ** \n",
       "TV           7.931e-02  5.882e-03  13.484  < 2e-16 ***\n",
       "radio        1.586e-01  3.298e-02   4.810 3.57e-06 ***\n",
       "newspaper    1.157e-03  6.247e-03   0.185  0.85327    \n",
       "I(TV^2)     -1.150e-04  2.017e-05  -5.705 5.80e-08 ***\n",
       "I(radio^2)   5.572e-04  6.705e-04   0.831  0.40723    \n",
       "---\n",
       "Signif. codes:  0 '***' 0.001 '**' 0.01 '*' 0.05 '.' 0.1 ' ' 1\n",
       "\n",
       "Residual standard error: 1.567 on 154 degrees of freedom\n",
       "Multiple R-squared:  0.9141,\tAdjusted R-squared:  0.9113 \n",
       "F-statistic: 327.8 on 5 and 154 DF,  p-value: < 2.2e-16\n"
      ]
     },
     "metadata": {},
     "output_type": "display_data"
    }
   ],
   "source": [
    "lmod.3 = lm(sales ~ . + I(TV^2) + I(radio^2) , data = train)\n",
    "summary(lmod.3)"
   ]
  },
  {
   "cell_type": "markdown",
   "metadata": {},
   "source": [
    "#### $TV^2$ is very significant when compared to alpha value of 0.05 but $radio^2$ is not significant when compared to alpha value of 0.05."
   ]
  },
  {
   "cell_type": "markdown",
   "metadata": {},
   "source": [
    "#### (e) Is it surprising that $R^2$ increased from the model in (c) to the model in (d)? Explain why or why not."
   ]
  },
  {
   "cell_type": "markdown",
   "metadata": {
    "collapsed": true
   },
   "source": [
    "#### No it is not surprising that $R^2$ increased from the model in (c) to the model in (d). This is because it a multiple linear regression model, the line of best fit is unable to capture the patterns in the data as it is not passing through most of the points. This is an example of underfitting situation. To overcome under-fitting, we need to increase the complexity of the model. When we add quadratic terms into the model, now the line passes through more points. In other words, the quadratic curve is able to fit the data better than the linear line. Hence, this increases our $R^2$. "
   ]
  },
  {
   "cell_type": "markdown",
   "metadata": {},
   "source": [
    "#### (f) Conduct a test (not just individual t-tests) to decide whether you should keep the quadratic terms in your model."
   ]
  },
  {
   "cell_type": "code",
   "execution_count": 9,
   "metadata": {},
   "outputs": [
    {
     "data": {
      "text/html": [
       "<table>\n",
       "<thead><tr><th scope=col>Res.Df</th><th scope=col>RSS</th><th scope=col>Df</th><th scope=col>Sum of Sq</th><th scope=col>F</th><th scope=col>Pr(&gt;F)</th></tr></thead>\n",
       "<tbody>\n",
       "\t<tr><td>156         </td><td>459.7666    </td><td>NA          </td><td>      NA    </td><td>      NA    </td><td>          NA</td></tr>\n",
       "\t<tr><td>154         </td><td>378.1386    </td><td> 2          </td><td>81.62807    </td><td>16.62185    </td><td>2.908982e-07</td></tr>\n",
       "</tbody>\n",
       "</table>\n"
      ],
      "text/latex": [
       "\\begin{tabular}{r|llllll}\n",
       " Res.Df & RSS & Df & Sum of Sq & F & Pr(>F)\\\\\n",
       "\\hline\n",
       "\t 156          & 459.7666     & NA           &       NA     &       NA     &           NA\\\\\n",
       "\t 154          & 378.1386     &  2           & 81.62807     & 16.62185     & 2.908982e-07\\\\\n",
       "\\end{tabular}\n"
      ],
      "text/markdown": [
       "\n",
       "Res.Df | RSS | Df | Sum of Sq | F | Pr(>F) | \n",
       "|---|---|\n",
       "| 156          | 459.7666     | NA           |       NA     |       NA     |           NA | \n",
       "| 154          | 378.1386     |  2           | 81.62807     | 16.62185     | 2.908982e-07 | \n",
       "\n",
       "\n"
      ],
      "text/plain": [
       "  Res.Df RSS      Df Sum of Sq F        Pr(>F)      \n",
       "1 156    459.7666 NA       NA        NA           NA\n",
       "2 154    378.1386  2 81.62807  16.62185 2.908982e-07"
      ]
     },
     "metadata": {},
     "output_type": "display_data"
    }
   ],
   "source": [
    "anova(lmod.2,lmod.3)"
   ]
  },
  {
   "cell_type": "markdown",
   "metadata": {},
   "source": [
    "#### We added some polynomial terms into our lmod.3 and we note that lmod.2 is our reduced model. Based on the above test, the p-values is very low and is definately lower that 0.05. We can reject the null hypothesis which states that we should keep the reduced model. "
   ]
  },
  {
   "cell_type": "markdown",
   "metadata": {},
   "source": [
    "#### (g) Redo part (c) for the model with the quadratic terms. How do the predicted MSEs compare?"
   ]
  },
  {
   "cell_type": "code",
   "execution_count": 10,
   "metadata": {},
   "outputs": [
    {
     "data": {
      "text/html": [
       "<table>\n",
       "<thead><tr><th></th><th scope=col>fit</th><th scope=col>lwr</th><th scope=col>upr</th></tr></thead>\n",
       "<tbody>\n",
       "\t<tr><th scope=row>200</th><td>15.17024</td><td>12.03687</td><td>18.30362</td></tr>\n",
       "\t<tr><th scope=row>103</th><td>16.41882</td><td>13.23699</td><td>19.60066</td></tr>\n",
       "\t<tr><th scope=row>138</th><td>19.75211</td><td>16.57822</td><td>22.92600</td></tr>\n",
       "\t<tr><th scope=row>132</th><td>15.00110</td><td>11.81329</td><td>18.18890</td></tr>\n",
       "\t<tr><th scope=row>54</th><td>20.77518</td><td>17.60553</td><td>23.94483</td></tr>\n",
       "</tbody>\n",
       "</table>\n"
      ],
      "text/latex": [
       "\\begin{tabular}{r|lll}\n",
       "  & fit & lwr & upr\\\\\n",
       "\\hline\n",
       "\t200 & 15.17024 & 12.03687 & 18.30362\\\\\n",
       "\t103 & 16.41882 & 13.23699 & 19.60066\\\\\n",
       "\t138 & 19.75211 & 16.57822 & 22.92600\\\\\n",
       "\t132 & 15.00110 & 11.81329 & 18.18890\\\\\n",
       "\t54 & 20.77518 & 17.60553 & 23.94483\\\\\n",
       "\\end{tabular}\n"
      ],
      "text/markdown": [
       "\n",
       "| <!--/--> | fit | lwr | upr | \n",
       "|---|---|---|---|---|\n",
       "| 200 | 15.17024 | 12.03687 | 18.30362 | \n",
       "| 103 | 16.41882 | 13.23699 | 19.60066 | \n",
       "| 138 | 19.75211 | 16.57822 | 22.92600 | \n",
       "| 132 | 15.00110 | 11.81329 | 18.18890 | \n",
       "| 54 | 20.77518 | 17.60553 | 23.94483 | \n",
       "\n",
       "\n"
      ],
      "text/plain": [
       "    fit      lwr      upr     \n",
       "200 15.17024 12.03687 18.30362\n",
       "103 16.41882 13.23699 19.60066\n",
       "138 19.75211 16.57822 22.92600\n",
       "132 15.00110 11.81329 18.18890\n",
       "54  20.77518 17.60553 23.94483"
      ]
     },
     "metadata": {},
     "output_type": "display_data"
    },
    {
     "data": {
      "text/html": [
       "1.8051711446342"
      ],
      "text/latex": [
       "1.8051711446342"
      ],
      "text/markdown": [
       "1.8051711446342"
      ],
      "text/plain": [
       "[1] 1.805171"
      ]
     },
     "metadata": {},
     "output_type": "display_data"
    }
   ],
   "source": [
    "#Compute predictions\n",
    "\n",
    "a = predict(lmod.3, newdata = data.frame(test), type = \"response\")\n",
    "\n",
    "#95% prediction intervals\n",
    "\n",
    "b = predict(lmod.3, newdata = data.frame(test), interval=\"predict\")\n",
    "\n",
    "#First five prediction intervals\n",
    "\n",
    "b[1:5,]\n",
    "\n",
    "#Prediction MSE\n",
    "\n",
    "mean((test$sales - predict.lm(lmod.3, newdata = data.frame(test))) ^ 2)"
   ]
  },
  {
   "cell_type": "markdown",
   "metadata": {},
   "source": [
    "#### The predicted MSE decreased when compared to the model in part (c). This is clearly because this model (lmod.3) is a better model than lmod.2"
   ]
  },
  {
   "cell_type": "code",
   "execution_count": null,
   "metadata": {},
   "outputs": [],
   "source": []
  }
 ],
 "metadata": {
  "kernelspec": {
   "display_name": "R",
   "language": "R",
   "name": "ir"
  },
  "language_info": {
   "codemirror_mode": "r",
   "file_extension": ".r",
   "mimetype": "text/x-r-source",
   "name": "R",
   "pygments_lexer": "r",
   "version": "3.5.1"
  }
 },
 "nbformat": 4,
 "nbformat_minor": 2
}
